{
 "cells": [
  {
   "cell_type": "code",
   "execution_count": 1,
   "metadata": {},
   "outputs": [],
   "source": [
    "from sklearn.metrics.pairwise import rbf_kernel\n",
    "from sklearn.linear_model import Ridge\n",
    "import matplotlib.pyplot as plt\n",
    "import numpy as np\n",
    "from sklearn.linear_model import LinearRegression\n",
    "from datetime import datetime\n",
    "import pandas as pd"
   ]
  },
  {
   "cell_type": "code",
   "execution_count": 2,
   "metadata": {},
   "outputs": [],
   "source": [
    "import os\n",
    "os.chdir('D:\\/Downloads-D')"
   ]
  },
  {
   "cell_type": "markdown",
   "metadata": {},
   "source": [
    "### 1. Loading the data"
   ]
  },
  {
   "cell_type": "code",
   "execution_count": 3,
   "metadata": {},
   "outputs": [
    {
     "data": {
      "text/html": [
       "<div>\n",
       "<style scoped>\n",
       "    .dataframe tbody tr th:only-of-type {\n",
       "        vertical-align: middle;\n",
       "    }\n",
       "\n",
       "    .dataframe tbody tr th {\n",
       "        vertical-align: top;\n",
       "    }\n",
       "\n",
       "    .dataframe thead th {\n",
       "        text-align: right;\n",
       "    }\n",
       "</style>\n",
       "<table border=\"1\" class=\"dataframe\">\n",
       "  <thead>\n",
       "    <tr style=\"text-align: right;\">\n",
       "      <th></th>\n",
       "      <th>0</th>\n",
       "      <th>1</th>\n",
       "      <th>2</th>\n",
       "    </tr>\n",
       "  </thead>\n",
       "  <tbody>\n",
       "    <tr>\n",
       "      <th>0</th>\n",
       "      <td>20110101.0</td>\n",
       "      <td>5.0</td>\n",
       "      <td>-6.4</td>\n",
       "    </tr>\n",
       "    <tr>\n",
       "      <th>1</th>\n",
       "      <td>20110101.0</td>\n",
       "      <td>10.0</td>\n",
       "      <td>-6.5</td>\n",
       "    </tr>\n",
       "    <tr>\n",
       "      <th>2</th>\n",
       "      <td>20110101.0</td>\n",
       "      <td>15.0</td>\n",
       "      <td>-6.5</td>\n",
       "    </tr>\n",
       "    <tr>\n",
       "      <th>3</th>\n",
       "      <td>20110101.0</td>\n",
       "      <td>20.0</td>\n",
       "      <td>-6.5</td>\n",
       "    </tr>\n",
       "    <tr>\n",
       "      <th>4</th>\n",
       "      <td>20110101.0</td>\n",
       "      <td>25.0</td>\n",
       "      <td>-6.7</td>\n",
       "    </tr>\n",
       "  </tbody>\n",
       "</table>\n",
       "</div>"
      ],
      "text/plain": [
       "            0     1    2\n",
       "0  20110101.0   5.0 -6.4\n",
       "1  20110101.0  10.0 -6.5\n",
       "2  20110101.0  15.0 -6.5\n",
       "3  20110101.0  20.0 -6.5\n",
       "4  20110101.0  25.0 -6.7"
      ]
     },
     "execution_count": 3,
     "metadata": {},
     "output_type": "execute_result"
    }
   ],
   "source": [
    "#code taken from pcw: reading data from txt file\n",
    "years = range(2011, 2017)\n",
    "files = ['CRNS0101-05-%d-CA_Yosemite_Village_12_W.txt' % y for y in years]\n",
    "usecols = [1, 2, 8] \n",
    "\n",
    "data = [np.loadtxt(f, usecols=usecols) for f in files]\n",
    "data = np.vstack(data)\n",
    "data = pd.DataFrame(data)\n",
    "data.head()"
   ]
  },
  {
   "cell_type": "code",
   "execution_count": 4,
   "metadata": {},
   "outputs": [],
   "source": [
    "#renaming the columns\n",
    "data = data.rename(columns={0: \"Date\", 1: \"Hour\", 2: \"Temperature\"})"
   ]
  },
  {
   "cell_type": "code",
   "execution_count": 5,
   "metadata": {},
   "outputs": [
    {
     "data": {
      "text/html": [
       "<div>\n",
       "<style scoped>\n",
       "    .dataframe tbody tr th:only-of-type {\n",
       "        vertical-align: middle;\n",
       "    }\n",
       "\n",
       "    .dataframe tbody tr th {\n",
       "        vertical-align: top;\n",
       "    }\n",
       "\n",
       "    .dataframe thead th {\n",
       "        text-align: right;\n",
       "    }\n",
       "</style>\n",
       "<table border=\"1\" class=\"dataframe\">\n",
       "  <thead>\n",
       "    <tr style=\"text-align: right;\">\n",
       "      <th></th>\n",
       "      <th>Date</th>\n",
       "      <th>Hour</th>\n",
       "      <th>Temperature</th>\n",
       "    </tr>\n",
       "  </thead>\n",
       "  <tbody>\n",
       "    <tr>\n",
       "      <th>0</th>\n",
       "      <td>20110101.0</td>\n",
       "      <td>5.0</td>\n",
       "      <td>-6.4</td>\n",
       "    </tr>\n",
       "    <tr>\n",
       "      <th>1</th>\n",
       "      <td>20110101.0</td>\n",
       "      <td>10.0</td>\n",
       "      <td>-6.5</td>\n",
       "    </tr>\n",
       "    <tr>\n",
       "      <th>2</th>\n",
       "      <td>20110101.0</td>\n",
       "      <td>15.0</td>\n",
       "      <td>-6.5</td>\n",
       "    </tr>\n",
       "    <tr>\n",
       "      <th>3</th>\n",
       "      <td>20110101.0</td>\n",
       "      <td>20.0</td>\n",
       "      <td>-6.5</td>\n",
       "    </tr>\n",
       "    <tr>\n",
       "      <th>4</th>\n",
       "      <td>20110101.0</td>\n",
       "      <td>25.0</td>\n",
       "      <td>-6.7</td>\n",
       "    </tr>\n",
       "    <tr>\n",
       "      <th>...</th>\n",
       "      <td>...</td>\n",
       "      <td>...</td>\n",
       "      <td>...</td>\n",
       "    </tr>\n",
       "    <tr>\n",
       "      <th>631291</th>\n",
       "      <td>20161231.0</td>\n",
       "      <td>2340.0</td>\n",
       "      <td>0.3</td>\n",
       "    </tr>\n",
       "    <tr>\n",
       "      <th>631292</th>\n",
       "      <td>20161231.0</td>\n",
       "      <td>2345.0</td>\n",
       "      <td>0.2</td>\n",
       "    </tr>\n",
       "    <tr>\n",
       "      <th>631293</th>\n",
       "      <td>20161231.0</td>\n",
       "      <td>2350.0</td>\n",
       "      <td>0.0</td>\n",
       "    </tr>\n",
       "    <tr>\n",
       "      <th>631294</th>\n",
       "      <td>20161231.0</td>\n",
       "      <td>2355.0</td>\n",
       "      <td>-0.1</td>\n",
       "    </tr>\n",
       "    <tr>\n",
       "      <th>631295</th>\n",
       "      <td>20170101.0</td>\n",
       "      <td>0.0</td>\n",
       "      <td>-0.1</td>\n",
       "    </tr>\n",
       "  </tbody>\n",
       "</table>\n",
       "<p>631296 rows × 3 columns</p>\n",
       "</div>"
      ],
      "text/plain": [
       "              Date    Hour  Temperature\n",
       "0       20110101.0     5.0         -6.4\n",
       "1       20110101.0    10.0         -6.5\n",
       "2       20110101.0    15.0         -6.5\n",
       "3       20110101.0    20.0         -6.5\n",
       "4       20110101.0    25.0         -6.7\n",
       "...            ...     ...          ...\n",
       "631291  20161231.0  2340.0          0.3\n",
       "631292  20161231.0  2345.0          0.2\n",
       "631293  20161231.0  2350.0          0.0\n",
       "631294  20161231.0  2355.0         -0.1\n",
       "631295  20170101.0     0.0         -0.1\n",
       "\n",
       "[631296 rows x 3 columns]"
      ]
     },
     "execution_count": 5,
     "metadata": {},
     "output_type": "execute_result"
    }
   ],
   "source": [
    "data"
   ]
  },
  {
   "cell_type": "markdown",
   "metadata": {},
   "source": [
    "### 2.Preprocessing the data ###\n",
    "\n",
    "Here, I preprocess the data to obtain the two variables needed for our models below: the minutes of the day, and the day of the year (in their respective orders). For example, February 1st is the 32nd day of the year."
   ]
  },
  {
   "cell_type": "markdown",
   "metadata": {},
   "source": [
    "Numerous preprocessing steps are required. First, we need to convert the \"Date\" column into three separate columns: year, month and day."
   ]
  },
  {
   "cell_type": "code",
   "execution_count": 6,
   "metadata": {},
   "outputs": [],
   "source": [
    "#Notice that the first four characters are always the years, the next two are the months, and the last two are the dates\n",
    "#Create separate columns\n",
    "years = []\n",
    "months=[]\n",
    "days=[]\n",
    "for i in data['Date']:\n",
    "    years.append(int(str(int(i))[0:4]))\n",
    "    months.append(int(str(int(i))[4:6]))\n",
    "    days.append(int(str(int(i))[6:8]))\n",
    "data['Year']=years\n",
    "data['Month']=months\n",
    "data['Day']=days"
   ]
  },
  {
   "cell_type": "code",
   "execution_count": 7,
   "metadata": {},
   "outputs": [
    {
     "data": {
      "text/html": [
       "<div>\n",
       "<style scoped>\n",
       "    .dataframe tbody tr th:only-of-type {\n",
       "        vertical-align: middle;\n",
       "    }\n",
       "\n",
       "    .dataframe tbody tr th {\n",
       "        vertical-align: top;\n",
       "    }\n",
       "\n",
       "    .dataframe thead th {\n",
       "        text-align: right;\n",
       "    }\n",
       "</style>\n",
       "<table border=\"1\" class=\"dataframe\">\n",
       "  <thead>\n",
       "    <tr style=\"text-align: right;\">\n",
       "      <th></th>\n",
       "      <th>Date</th>\n",
       "      <th>Hour</th>\n",
       "      <th>Temperature</th>\n",
       "      <th>Year</th>\n",
       "      <th>Month</th>\n",
       "      <th>Day</th>\n",
       "    </tr>\n",
       "  </thead>\n",
       "  <tbody>\n",
       "    <tr>\n",
       "      <th>0</th>\n",
       "      <td>20110101.0</td>\n",
       "      <td>5.0</td>\n",
       "      <td>-6.4</td>\n",
       "      <td>2011</td>\n",
       "      <td>1</td>\n",
       "      <td>1</td>\n",
       "    </tr>\n",
       "    <tr>\n",
       "      <th>1</th>\n",
       "      <td>20110101.0</td>\n",
       "      <td>10.0</td>\n",
       "      <td>-6.5</td>\n",
       "      <td>2011</td>\n",
       "      <td>1</td>\n",
       "      <td>1</td>\n",
       "    </tr>\n",
       "    <tr>\n",
       "      <th>2</th>\n",
       "      <td>20110101.0</td>\n",
       "      <td>15.0</td>\n",
       "      <td>-6.5</td>\n",
       "      <td>2011</td>\n",
       "      <td>1</td>\n",
       "      <td>1</td>\n",
       "    </tr>\n",
       "    <tr>\n",
       "      <th>3</th>\n",
       "      <td>20110101.0</td>\n",
       "      <td>20.0</td>\n",
       "      <td>-6.5</td>\n",
       "      <td>2011</td>\n",
       "      <td>1</td>\n",
       "      <td>1</td>\n",
       "    </tr>\n",
       "    <tr>\n",
       "      <th>4</th>\n",
       "      <td>20110101.0</td>\n",
       "      <td>25.0</td>\n",
       "      <td>-6.7</td>\n",
       "      <td>2011</td>\n",
       "      <td>1</td>\n",
       "      <td>1</td>\n",
       "    </tr>\n",
       "  </tbody>\n",
       "</table>\n",
       "</div>"
      ],
      "text/plain": [
       "         Date  Hour  Temperature  Year  Month  Day\n",
       "0  20110101.0   5.0         -6.4  2011      1    1\n",
       "1  20110101.0  10.0         -6.5  2011      1    1\n",
       "2  20110101.0  15.0         -6.5  2011      1    1\n",
       "3  20110101.0  20.0         -6.5  2011      1    1\n",
       "4  20110101.0  25.0         -6.7  2011      1    1"
      ]
     },
     "execution_count": 7,
     "metadata": {},
     "output_type": "execute_result"
    }
   ],
   "source": [
    "data.head()"
   ]
  },
  {
   "cell_type": "code",
   "execution_count": 8,
   "metadata": {},
   "outputs": [
    {
     "data": {
      "text/plain": [
       "121"
      ]
     },
     "execution_count": 8,
     "metadata": {},
     "output_type": "execute_result"
    }
   ],
   "source": [
    "#Now, we need to convert the day into its order in a year\n",
    "#To get the exact number, we need to convert each date into datetime format, then subtract by the first day of the year\n",
    "from datetime import date\n",
    "def date_convert(beginning_date, current_date):\n",
    "    '''\n",
    "    Function to convert a day into its order in that year\n",
    "    inputs:\n",
    "    beginning_date: list of 3 numbers: year, 1 and 1 (the first day of the first month of the year)\n",
    "    current_date: list of 3 numbers: year, month and day of the day that we want to convert\n",
    "    '''\n",
    "    #First, convert both the dates into datetime format\n",
    "    beginning_date = str(int(beginning_date[0]))+'-'+str(int(beginning_date[1]))+'-'+ str(int(beginning_date[2]))\n",
    "    current_date = str(int(current_date[0]))+'-'+str(int(current_date[1]))+'-'+ str(int(current_date[2]))\n",
    "    beginning_date=datetime.strptime(beginning_date,\"%Y-%m-%d\")\n",
    "    current_date=datetime.strptime(current_date,\"%Y-%m-%d\")\n",
    "    #Now, we will return the difference between the two dates\n",
    "    return(abs(current_date-beginning_date).days+1)\n",
    "\n",
    "#Testing\n",
    "date_convert([2015,1,1], [2015,5,1])"
   ]
  },
  {
   "cell_type": "code",
   "execution_count": 9,
   "metadata": {},
   "outputs": [],
   "source": [
    "#Now, we apply the function to all data values in the dataset\n",
    "#First, we drop all NaN values\n",
    "data = data.dropna()\n",
    "#Now we apply the function:\n",
    "data['Day_order'] = data.apply(lambda x: date_convert([x.Year,1,1], [x.Year,x.Month,x.Day]), axis=1)"
   ]
  },
  {
   "cell_type": "code",
   "execution_count": 10,
   "metadata": {},
   "outputs": [
    {
     "data": {
      "text/html": [
       "<div>\n",
       "<style scoped>\n",
       "    .dataframe tbody tr th:only-of-type {\n",
       "        vertical-align: middle;\n",
       "    }\n",
       "\n",
       "    .dataframe tbody tr th {\n",
       "        vertical-align: top;\n",
       "    }\n",
       "\n",
       "    .dataframe thead th {\n",
       "        text-align: right;\n",
       "    }\n",
       "</style>\n",
       "<table border=\"1\" class=\"dataframe\">\n",
       "  <thead>\n",
       "    <tr style=\"text-align: right;\">\n",
       "      <th></th>\n",
       "      <th>Date</th>\n",
       "      <th>Hour</th>\n",
       "      <th>Temperature</th>\n",
       "      <th>Year</th>\n",
       "      <th>Month</th>\n",
       "      <th>Day</th>\n",
       "      <th>Day_order</th>\n",
       "    </tr>\n",
       "  </thead>\n",
       "  <tbody>\n",
       "    <tr>\n",
       "      <th>0</th>\n",
       "      <td>20110101.0</td>\n",
       "      <td>5.0</td>\n",
       "      <td>-6.4</td>\n",
       "      <td>2011</td>\n",
       "      <td>1</td>\n",
       "      <td>1</td>\n",
       "      <td>1</td>\n",
       "    </tr>\n",
       "    <tr>\n",
       "      <th>1</th>\n",
       "      <td>20110101.0</td>\n",
       "      <td>10.0</td>\n",
       "      <td>-6.5</td>\n",
       "      <td>2011</td>\n",
       "      <td>1</td>\n",
       "      <td>1</td>\n",
       "      <td>1</td>\n",
       "    </tr>\n",
       "    <tr>\n",
       "      <th>2</th>\n",
       "      <td>20110101.0</td>\n",
       "      <td>15.0</td>\n",
       "      <td>-6.5</td>\n",
       "      <td>2011</td>\n",
       "      <td>1</td>\n",
       "      <td>1</td>\n",
       "      <td>1</td>\n",
       "    </tr>\n",
       "    <tr>\n",
       "      <th>3</th>\n",
       "      <td>20110101.0</td>\n",
       "      <td>20.0</td>\n",
       "      <td>-6.5</td>\n",
       "      <td>2011</td>\n",
       "      <td>1</td>\n",
       "      <td>1</td>\n",
       "      <td>1</td>\n",
       "    </tr>\n",
       "    <tr>\n",
       "      <th>4</th>\n",
       "      <td>20110101.0</td>\n",
       "      <td>25.0</td>\n",
       "      <td>-6.7</td>\n",
       "      <td>2011</td>\n",
       "      <td>1</td>\n",
       "      <td>1</td>\n",
       "      <td>1</td>\n",
       "    </tr>\n",
       "    <tr>\n",
       "      <th>...</th>\n",
       "      <td>...</td>\n",
       "      <td>...</td>\n",
       "      <td>...</td>\n",
       "      <td>...</td>\n",
       "      <td>...</td>\n",
       "      <td>...</td>\n",
       "      <td>...</td>\n",
       "    </tr>\n",
       "    <tr>\n",
       "      <th>631291</th>\n",
       "      <td>20161231.0</td>\n",
       "      <td>2340.0</td>\n",
       "      <td>0.3</td>\n",
       "      <td>2016</td>\n",
       "      <td>12</td>\n",
       "      <td>31</td>\n",
       "      <td>366</td>\n",
       "    </tr>\n",
       "    <tr>\n",
       "      <th>631292</th>\n",
       "      <td>20161231.0</td>\n",
       "      <td>2345.0</td>\n",
       "      <td>0.2</td>\n",
       "      <td>2016</td>\n",
       "      <td>12</td>\n",
       "      <td>31</td>\n",
       "      <td>366</td>\n",
       "    </tr>\n",
       "    <tr>\n",
       "      <th>631293</th>\n",
       "      <td>20161231.0</td>\n",
       "      <td>2350.0</td>\n",
       "      <td>0.0</td>\n",
       "      <td>2016</td>\n",
       "      <td>12</td>\n",
       "      <td>31</td>\n",
       "      <td>366</td>\n",
       "    </tr>\n",
       "    <tr>\n",
       "      <th>631294</th>\n",
       "      <td>20161231.0</td>\n",
       "      <td>2355.0</td>\n",
       "      <td>-0.1</td>\n",
       "      <td>2016</td>\n",
       "      <td>12</td>\n",
       "      <td>31</td>\n",
       "      <td>366</td>\n",
       "    </tr>\n",
       "    <tr>\n",
       "      <th>631295</th>\n",
       "      <td>20170101.0</td>\n",
       "      <td>0.0</td>\n",
       "      <td>-0.1</td>\n",
       "      <td>2017</td>\n",
       "      <td>1</td>\n",
       "      <td>1</td>\n",
       "      <td>1</td>\n",
       "    </tr>\n",
       "  </tbody>\n",
       "</table>\n",
       "<p>631296 rows × 7 columns</p>\n",
       "</div>"
      ],
      "text/plain": [
       "              Date    Hour  Temperature  Year  Month  Day  Day_order\n",
       "0       20110101.0     5.0         -6.4  2011      1    1          1\n",
       "1       20110101.0    10.0         -6.5  2011      1    1          1\n",
       "2       20110101.0    15.0         -6.5  2011      1    1          1\n",
       "3       20110101.0    20.0         -6.5  2011      1    1          1\n",
       "4       20110101.0    25.0         -6.7  2011      1    1          1\n",
       "...            ...     ...          ...   ...    ...  ...        ...\n",
       "631291  20161231.0  2340.0          0.3  2016     12   31        366\n",
       "631292  20161231.0  2345.0          0.2  2016     12   31        366\n",
       "631293  20161231.0  2350.0          0.0  2016     12   31        366\n",
       "631294  20161231.0  2355.0         -0.1  2016     12   31        366\n",
       "631295  20170101.0     0.0         -0.1  2017      1    1          1\n",
       "\n",
       "[631296 rows x 7 columns]"
      ]
     },
     "execution_count": 10,
     "metadata": {},
     "output_type": "execute_result"
    }
   ],
   "source": [
    "data"
   ]
  },
  {
   "cell_type": "markdown",
   "metadata": {},
   "source": [
    "We see values of \"366\" for year 2016, which is fine because 2016 is a leap year"
   ]
  },
  {
   "cell_type": "code",
   "execution_count": 11,
   "metadata": {},
   "outputs": [
    {
     "data": {
      "text/plain": [
       "1440"
      ]
     },
     "execution_count": 11,
     "metadata": {},
     "output_type": "execute_result"
    }
   ],
   "source": [
    "#Finally, we need minutes. The data given is in HHmm, so we need to convert them to minutes. Same approach as above:\n",
    "def convert_minutes(hour):\n",
    "    '''\n",
    "    Function to convert HHmm to minutes. Input:\n",
    "    hour: the value given in the dataset: a number with the first two characters representing the hour, and the last\n",
    "    two representing minutes\n",
    "    '''\n",
    "    minutes = (hour//100)*60 #(e.g. \"2300\" means the 23rd hour, so 23*60 is the minutes)\n",
    "    residual_minute = hour%100\n",
    "    minute_actual = minutes + residual_minute\n",
    "    return minute_actual\n",
    "#Testing\n",
    "convert_minutes(2400) #True, a day has 1440 minutes"
   ]
  },
  {
   "cell_type": "code",
   "execution_count": 12,
   "metadata": {},
   "outputs": [],
   "source": [
    "#Now, we apply the function to all data values in the dataset\n",
    "data['Minute_converted'] = data.Hour.apply(lambda x: convert_minutes(x))"
   ]
  },
  {
   "cell_type": "code",
   "execution_count": 13,
   "metadata": {},
   "outputs": [
    {
     "data": {
      "text/html": [
       "<div>\n",
       "<style scoped>\n",
       "    .dataframe tbody tr th:only-of-type {\n",
       "        vertical-align: middle;\n",
       "    }\n",
       "\n",
       "    .dataframe tbody tr th {\n",
       "        vertical-align: top;\n",
       "    }\n",
       "\n",
       "    .dataframe thead th {\n",
       "        text-align: right;\n",
       "    }\n",
       "</style>\n",
       "<table border=\"1\" class=\"dataframe\">\n",
       "  <thead>\n",
       "    <tr style=\"text-align: right;\">\n",
       "      <th></th>\n",
       "      <th>Date</th>\n",
       "      <th>Hour</th>\n",
       "      <th>Temperature</th>\n",
       "      <th>Year</th>\n",
       "      <th>Month</th>\n",
       "      <th>Day</th>\n",
       "      <th>Day_order</th>\n",
       "      <th>Minute_converted</th>\n",
       "    </tr>\n",
       "  </thead>\n",
       "  <tbody>\n",
       "    <tr>\n",
       "      <th>0</th>\n",
       "      <td>20110101.0</td>\n",
       "      <td>5.0</td>\n",
       "      <td>-6.4</td>\n",
       "      <td>2011</td>\n",
       "      <td>1</td>\n",
       "      <td>1</td>\n",
       "      <td>1</td>\n",
       "      <td>5.0</td>\n",
       "    </tr>\n",
       "    <tr>\n",
       "      <th>1</th>\n",
       "      <td>20110101.0</td>\n",
       "      <td>10.0</td>\n",
       "      <td>-6.5</td>\n",
       "      <td>2011</td>\n",
       "      <td>1</td>\n",
       "      <td>1</td>\n",
       "      <td>1</td>\n",
       "      <td>10.0</td>\n",
       "    </tr>\n",
       "    <tr>\n",
       "      <th>2</th>\n",
       "      <td>20110101.0</td>\n",
       "      <td>15.0</td>\n",
       "      <td>-6.5</td>\n",
       "      <td>2011</td>\n",
       "      <td>1</td>\n",
       "      <td>1</td>\n",
       "      <td>1</td>\n",
       "      <td>15.0</td>\n",
       "    </tr>\n",
       "    <tr>\n",
       "      <th>3</th>\n",
       "      <td>20110101.0</td>\n",
       "      <td>20.0</td>\n",
       "      <td>-6.5</td>\n",
       "      <td>2011</td>\n",
       "      <td>1</td>\n",
       "      <td>1</td>\n",
       "      <td>1</td>\n",
       "      <td>20.0</td>\n",
       "    </tr>\n",
       "    <tr>\n",
       "      <th>4</th>\n",
       "      <td>20110101.0</td>\n",
       "      <td>25.0</td>\n",
       "      <td>-6.7</td>\n",
       "      <td>2011</td>\n",
       "      <td>1</td>\n",
       "      <td>1</td>\n",
       "      <td>1</td>\n",
       "      <td>25.0</td>\n",
       "    </tr>\n",
       "    <tr>\n",
       "      <th>...</th>\n",
       "      <td>...</td>\n",
       "      <td>...</td>\n",
       "      <td>...</td>\n",
       "      <td>...</td>\n",
       "      <td>...</td>\n",
       "      <td>...</td>\n",
       "      <td>...</td>\n",
       "      <td>...</td>\n",
       "    </tr>\n",
       "    <tr>\n",
       "      <th>631291</th>\n",
       "      <td>20161231.0</td>\n",
       "      <td>2340.0</td>\n",
       "      <td>0.3</td>\n",
       "      <td>2016</td>\n",
       "      <td>12</td>\n",
       "      <td>31</td>\n",
       "      <td>366</td>\n",
       "      <td>1420.0</td>\n",
       "    </tr>\n",
       "    <tr>\n",
       "      <th>631292</th>\n",
       "      <td>20161231.0</td>\n",
       "      <td>2345.0</td>\n",
       "      <td>0.2</td>\n",
       "      <td>2016</td>\n",
       "      <td>12</td>\n",
       "      <td>31</td>\n",
       "      <td>366</td>\n",
       "      <td>1425.0</td>\n",
       "    </tr>\n",
       "    <tr>\n",
       "      <th>631293</th>\n",
       "      <td>20161231.0</td>\n",
       "      <td>2350.0</td>\n",
       "      <td>0.0</td>\n",
       "      <td>2016</td>\n",
       "      <td>12</td>\n",
       "      <td>31</td>\n",
       "      <td>366</td>\n",
       "      <td>1430.0</td>\n",
       "    </tr>\n",
       "    <tr>\n",
       "      <th>631294</th>\n",
       "      <td>20161231.0</td>\n",
       "      <td>2355.0</td>\n",
       "      <td>-0.1</td>\n",
       "      <td>2016</td>\n",
       "      <td>12</td>\n",
       "      <td>31</td>\n",
       "      <td>366</td>\n",
       "      <td>1435.0</td>\n",
       "    </tr>\n",
       "    <tr>\n",
       "      <th>631295</th>\n",
       "      <td>20170101.0</td>\n",
       "      <td>0.0</td>\n",
       "      <td>-0.1</td>\n",
       "      <td>2017</td>\n",
       "      <td>1</td>\n",
       "      <td>1</td>\n",
       "      <td>1</td>\n",
       "      <td>0.0</td>\n",
       "    </tr>\n",
       "  </tbody>\n",
       "</table>\n",
       "<p>631296 rows × 8 columns</p>\n",
       "</div>"
      ],
      "text/plain": [
       "              Date    Hour  Temperature  Year  Month  Day  Day_order  \\\n",
       "0       20110101.0     5.0         -6.4  2011      1    1          1   \n",
       "1       20110101.0    10.0         -6.5  2011      1    1          1   \n",
       "2       20110101.0    15.0         -6.5  2011      1    1          1   \n",
       "3       20110101.0    20.0         -6.5  2011      1    1          1   \n",
       "4       20110101.0    25.0         -6.7  2011      1    1          1   \n",
       "...            ...     ...          ...   ...    ...  ...        ...   \n",
       "631291  20161231.0  2340.0          0.3  2016     12   31        366   \n",
       "631292  20161231.0  2345.0          0.2  2016     12   31        366   \n",
       "631293  20161231.0  2350.0          0.0  2016     12   31        366   \n",
       "631294  20161231.0  2355.0         -0.1  2016     12   31        366   \n",
       "631295  20170101.0     0.0         -0.1  2017      1    1          1   \n",
       "\n",
       "        Minute_converted  \n",
       "0                    5.0  \n",
       "1                   10.0  \n",
       "2                   15.0  \n",
       "3                   20.0  \n",
       "4                   25.0  \n",
       "...                  ...  \n",
       "631291            1420.0  \n",
       "631292            1425.0  \n",
       "631293            1430.0  \n",
       "631294            1435.0  \n",
       "631295               0.0  \n",
       "\n",
       "[631296 rows x 8 columns]"
      ]
     },
     "execution_count": 13,
     "metadata": {},
     "output_type": "execute_result"
    }
   ],
   "source": [
    "data"
   ]
  },
  {
   "cell_type": "markdown",
   "metadata": {},
   "source": [
    "### 3. Fitting the models ###\n",
    "\n",
    "In this section, I train the models and use them to predict the data. We will see below that including both Minutes and Days generated the highest r2 score, as opposed to only using them individually."
   ]
  },
  {
   "cell_type": "code",
   "execution_count": 14,
   "metadata": {},
   "outputs": [
    {
     "data": {
      "text/html": [
       "<div>\n",
       "<style scoped>\n",
       "    .dataframe tbody tr th:only-of-type {\n",
       "        vertical-align: middle;\n",
       "    }\n",
       "\n",
       "    .dataframe tbody tr th {\n",
       "        vertical-align: top;\n",
       "    }\n",
       "\n",
       "    .dataframe thead th {\n",
       "        text-align: right;\n",
       "    }\n",
       "</style>\n",
       "<table border=\"1\" class=\"dataframe\">\n",
       "  <thead>\n",
       "    <tr style=\"text-align: right;\">\n",
       "      <th></th>\n",
       "      <th>Year</th>\n",
       "      <th>Temperature</th>\n",
       "      <th>Day_order</th>\n",
       "      <th>Minute_converted</th>\n",
       "    </tr>\n",
       "  </thead>\n",
       "  <tbody>\n",
       "    <tr>\n",
       "      <th>0</th>\n",
       "      <td>2011</td>\n",
       "      <td>-6.4</td>\n",
       "      <td>1</td>\n",
       "      <td>5.0</td>\n",
       "    </tr>\n",
       "    <tr>\n",
       "      <th>1</th>\n",
       "      <td>2011</td>\n",
       "      <td>-6.5</td>\n",
       "      <td>1</td>\n",
       "      <td>10.0</td>\n",
       "    </tr>\n",
       "    <tr>\n",
       "      <th>2</th>\n",
       "      <td>2011</td>\n",
       "      <td>-6.5</td>\n",
       "      <td>1</td>\n",
       "      <td>15.0</td>\n",
       "    </tr>\n",
       "    <tr>\n",
       "      <th>3</th>\n",
       "      <td>2011</td>\n",
       "      <td>-6.5</td>\n",
       "      <td>1</td>\n",
       "      <td>20.0</td>\n",
       "    </tr>\n",
       "    <tr>\n",
       "      <th>4</th>\n",
       "      <td>2011</td>\n",
       "      <td>-6.7</td>\n",
       "      <td>1</td>\n",
       "      <td>25.0</td>\n",
       "    </tr>\n",
       "    <tr>\n",
       "      <th>...</th>\n",
       "      <td>...</td>\n",
       "      <td>...</td>\n",
       "      <td>...</td>\n",
       "      <td>...</td>\n",
       "    </tr>\n",
       "    <tr>\n",
       "      <th>525882</th>\n",
       "      <td>2015</td>\n",
       "      <td>-1.5</td>\n",
       "      <td>365</td>\n",
       "      <td>1415.0</td>\n",
       "    </tr>\n",
       "    <tr>\n",
       "      <th>525883</th>\n",
       "      <td>2015</td>\n",
       "      <td>-1.4</td>\n",
       "      <td>365</td>\n",
       "      <td>1420.0</td>\n",
       "    </tr>\n",
       "    <tr>\n",
       "      <th>525884</th>\n",
       "      <td>2015</td>\n",
       "      <td>-1.6</td>\n",
       "      <td>365</td>\n",
       "      <td>1425.0</td>\n",
       "    </tr>\n",
       "    <tr>\n",
       "      <th>525885</th>\n",
       "      <td>2015</td>\n",
       "      <td>-1.4</td>\n",
       "      <td>365</td>\n",
       "      <td>1430.0</td>\n",
       "    </tr>\n",
       "    <tr>\n",
       "      <th>525886</th>\n",
       "      <td>2015</td>\n",
       "      <td>-1.6</td>\n",
       "      <td>365</td>\n",
       "      <td>1435.0</td>\n",
       "    </tr>\n",
       "  </tbody>\n",
       "</table>\n",
       "<p>525479 rows × 4 columns</p>\n",
       "</div>"
      ],
      "text/plain": [
       "        Year  Temperature  Day_order  Minute_converted\n",
       "0       2011         -6.4          1               5.0\n",
       "1       2011         -6.5          1              10.0\n",
       "2       2011         -6.5          1              15.0\n",
       "3       2011         -6.5          1              20.0\n",
       "4       2011         -6.7          1              25.0\n",
       "...      ...          ...        ...               ...\n",
       "525882  2015         -1.5        365            1415.0\n",
       "525883  2015         -1.4        365            1420.0\n",
       "525884  2015         -1.6        365            1425.0\n",
       "525885  2015         -1.4        365            1430.0\n",
       "525886  2015         -1.6        365            1435.0\n",
       "\n",
       "[525479 rows x 4 columns]"
      ]
     },
     "execution_count": 14,
     "metadata": {},
     "output_type": "execute_result"
    }
   ],
   "source": [
    "#First, we split the data into training and test set. Let's make 2011-2015 training, 2016 onwards test \n",
    "#The two variables we will include are day_order and minute_converted as required by the prompt\n",
    "#Of course we include temperature as well which is our dependent variable\n",
    "#First, we get rid of extreme temperature values\n",
    "data = data[data[\"Temperature\"]>-1000]\n",
    "#Now we get the three needed columns\n",
    "dataset_model = pd.DataFrame(data, columns=['Year','Temperature', 'Day_order', 'Minute_converted'])\n",
    "dataset_model_train = dataset_model[dataset_model['Year']<2016]\n",
    "dataset_model_test = dataset_model[dataset_model['Year']>=2016]\n",
    "dataset_model_train"
   ]
  },
  {
   "cell_type": "code",
   "execution_count": 15,
   "metadata": {},
   "outputs": [],
   "source": [
    "dataset_model_train=dataset_model_train.drop(['Year'], axis=1)\n",
    "dataset_model_test=dataset_model_test.drop(['Year'], axis=1)"
   ]
  },
  {
   "cell_type": "code",
   "execution_count": 16,
   "metadata": {},
   "outputs": [],
   "source": [
    "#Get model inputs\n",
    "X_train = dataset_model_train.drop(['Temperature'], axis=1)\n",
    "y_train = dataset_model_train.drop(['Day_order','Minute_converted'], axis=1)\n",
    "X_test = dataset_model_test.drop(['Temperature'], axis=1)\n",
    "y_test = dataset_model_test.drop(['Day_order','Minute_converted'], axis=1)"
   ]
  },
  {
   "cell_type": "code",
   "execution_count": 17,
   "metadata": {},
   "outputs": [
    {
     "data": {
      "text/html": [
       "<div>\n",
       "<style scoped>\n",
       "    .dataframe tbody tr th:only-of-type {\n",
       "        vertical-align: middle;\n",
       "    }\n",
       "\n",
       "    .dataframe tbody tr th {\n",
       "        vertical-align: top;\n",
       "    }\n",
       "\n",
       "    .dataframe thead th {\n",
       "        text-align: right;\n",
       "    }\n",
       "</style>\n",
       "<table border=\"1\" class=\"dataframe\">\n",
       "  <thead>\n",
       "    <tr style=\"text-align: right;\">\n",
       "      <th></th>\n",
       "      <th>Temperature</th>\n",
       "    </tr>\n",
       "  </thead>\n",
       "  <tbody>\n",
       "    <tr>\n",
       "      <th>525887</th>\n",
       "      <td>-1.6</td>\n",
       "    </tr>\n",
       "    <tr>\n",
       "      <th>525888</th>\n",
       "      <td>-1.9</td>\n",
       "    </tr>\n",
       "    <tr>\n",
       "      <th>525889</th>\n",
       "      <td>-2.0</td>\n",
       "    </tr>\n",
       "    <tr>\n",
       "      <th>525890</th>\n",
       "      <td>-2.1</td>\n",
       "    </tr>\n",
       "    <tr>\n",
       "      <th>525891</th>\n",
       "      <td>-2.2</td>\n",
       "    </tr>\n",
       "    <tr>\n",
       "      <th>...</th>\n",
       "      <td>...</td>\n",
       "    </tr>\n",
       "    <tr>\n",
       "      <th>631291</th>\n",
       "      <td>0.3</td>\n",
       "    </tr>\n",
       "    <tr>\n",
       "      <th>631292</th>\n",
       "      <td>0.2</td>\n",
       "    </tr>\n",
       "    <tr>\n",
       "      <th>631293</th>\n",
       "      <td>0.0</td>\n",
       "    </tr>\n",
       "    <tr>\n",
       "      <th>631294</th>\n",
       "      <td>-0.1</td>\n",
       "    </tr>\n",
       "    <tr>\n",
       "      <th>631295</th>\n",
       "      <td>-0.1</td>\n",
       "    </tr>\n",
       "  </tbody>\n",
       "</table>\n",
       "<p>105375 rows × 1 columns</p>\n",
       "</div>"
      ],
      "text/plain": [
       "        Temperature\n",
       "525887         -1.6\n",
       "525888         -1.9\n",
       "525889         -2.0\n",
       "525890         -2.1\n",
       "525891         -2.2\n",
       "...             ...\n",
       "631291          0.3\n",
       "631292          0.2\n",
       "631293          0.0\n",
       "631294         -0.1\n",
       "631295         -0.1\n",
       "\n",
       "[105375 rows x 1 columns]"
      ]
     },
     "execution_count": 17,
     "metadata": {},
     "output_type": "execute_result"
    }
   ],
   "source": [
    "y_test"
   ]
  },
  {
   "cell_type": "markdown",
   "metadata": {},
   "source": [
    "#### Fitting with only minutes"
   ]
  },
  {
   "cell_type": "code",
   "execution_count": 18,
   "metadata": {},
   "outputs": [],
   "source": [
    "#Now we wrap input dimensions with rbfs\n",
    "#First, we need the centers. For minutes, it's completely arbitrary, but I'll make the number of centers to be the number\n",
    "#of hours in a day (so 24 centers)\n",
    "centers_min = np.array(range(0, 1440, 60)).reshape(-1,1)\n",
    "\n",
    "#After many testing times, I've settled with a sigma of 8000 - quite large for the model to wriggle around. Alpha=0.1\n",
    "#I will go ahead with these values instead of testing in this notebook which clutters the work\n",
    "sigma=8000\n",
    "alpha=0.1\n",
    "\n",
    "#wrapping in rbfs. We only deal with minutes here\n",
    "minute_model_train = rbf_kernel(np.array(X_train.Minute_converted).reshape(-1,1), centers_min, gamma=1/sigma)\n",
    "minute_model_test = rbf_kernel(np.array(X_test.Minute_converted).reshape(-1,1), centers_min, gamma=1/sigma)\n",
    "\n",
    "#Fitting the model with Linear Regression\n",
    "reg_minute = LinearRegression()\n",
    "reg_minute.fit(minute_model_train, y_train)\n",
    "\n",
    "#Testing the model\n",
    "pred_minute = reg_minute.predict(minute_model_test)"
   ]
  },
  {
   "cell_type": "code",
   "execution_count": 19,
   "metadata": {},
   "outputs": [
    {
     "data": {
      "text/plain": [
       "0.04428047421561987"
      ]
     },
     "execution_count": 19,
     "metadata": {},
     "output_type": "execute_result"
    }
   ],
   "source": [
    "from sklearn.metrics import r2_score\n",
    "r2_score(y_test, pred_minute) #we see that the score is pretty low"
   ]
  },
  {
   "cell_type": "code",
   "execution_count": 20,
   "metadata": {},
   "outputs": [
    {
     "data": {
      "image/png": "[encoded data removed]",
      "text/plain": [
       "<Figure size 432x288 with 1 Axes>"
      ]
     },
     "metadata": {
      "needs_background": "light"
     },
     "output_type": "display_data"
    }
   ],
   "source": [
    "#Examining with a graph on the test data\n",
    "plt.figure()\n",
    "range_x = dataset_model_test.index\n",
    "plt.plot(range_x, y_test, label='Real data', color='blue')\n",
    "plt.plot(range_x, pred_minute, label='Predicted with minutes', color='Red')\n",
    "plt.xlabel(\"Days from the original date\")\n",
    "plt.ylabel(\"Temperature\")\n",
    "plt.show()"
   ]
  },
  {
   "cell_type": "markdown",
   "metadata": {},
   "source": [
    "We see that the fit is not good which explains the low R2 score. What this means is that Minutes do not explain much of the variation in temperature."
   ]
  },
  {
   "cell_type": "markdown",
   "metadata": {},
   "source": [
    "#### Fitting with only days"
   ]
  },
  {
   "cell_type": "code",
   "execution_count": 21,
   "metadata": {},
   "outputs": [],
   "source": [
    "#Wrap input dimensions with rbfs\n",
    "#First, we need the centers. For days, it's completely arbitrary, but I'll make the number of centers to be the number\n",
    "#of months in a year (so 12)\n",
    "centers_day = np.array(range(0, 365, 30)).reshape(-1,1)\n",
    "\n",
    "#After many testing times, I've settled with a sigma of 8000 - quite large for the model to wriggle around. Alpha=0.1\n",
    "#I will go ahead with these values instead of testing in this notebook which clutters the work\n",
    "sigma=8000\n",
    "alpha=0.1\n",
    "\n",
    "#wrapping in rbfs. We only deal with minutes here\n",
    "day_model_train = rbf_kernel(np.array(X_train.Day_order).reshape(-1,1), centers_day, gamma=1/sigma)\n",
    "day_model_test = rbf_kernel(np.array(X_test.Day_order).reshape(-1,1), centers_day, gamma=1/sigma)\n",
    "\n",
    "#Fitting the model with Linear Regression\n",
    "reg_day = LinearRegression()\n",
    "reg_day.fit(day_model_train, y_train)\n",
    "\n",
    "#Testing the model\n",
    "pred_day = reg_day.predict(day_model_test)"
   ]
  },
  {
   "cell_type": "code",
   "execution_count": 22,
   "metadata": {},
   "outputs": [
    {
     "data": {
      "text/plain": [
       "0.5739041508634215"
      ]
     },
     "execution_count": 22,
     "metadata": {},
     "output_type": "execute_result"
    }
   ],
   "source": [
    "r2_score(y_test, pred_day) #We see here that r2 score is much higher than using only minutes"
   ]
  },
  {
   "cell_type": "code",
   "execution_count": 23,
   "metadata": {},
   "outputs": [
    {
     "data": {
      "image/png": "[encoded data removed]",
      "text/plain": [
       "<Figure size 432x288 with 1 Axes>"
      ]
     },
     "metadata": {
      "needs_background": "light"
     },
     "output_type": "display_data"
    }
   ],
   "source": [
    "#Examining with a graph on the test data\n",
    "plt.figure()\n",
    "range_x = dataset_model_test.index\n",
    "plt.plot(range_x, y_test, label='Real data', color='blue')\n",
    "plt.plot(range_x, pred_day, label='Predicted with minutes', color='Red')\n",
    "plt.xlabel(\"Days from the original date\")\n",
    "plt.ylabel(\"Temperature\")\n",
    "plt.show()"
   ]
  },
  {
   "cell_type": "markdown",
   "metadata": {},
   "source": [
    "The fit is much better here! What this means is that even though Minutes do contribute to the variation, the variation is mostly explain by Days."
   ]
  },
  {
   "cell_type": "markdown",
   "metadata": {},
   "source": [
    "#### Fitting with both days and minutes"
   ]
  },
  {
   "cell_type": "code",
   "execution_count": 24,
   "metadata": {},
   "outputs": [],
   "source": [
    "#Wrap input dimensions with rbfs\n",
    "#First, we need the centers, which is a combination of the above models\n",
    "centers_full = []\n",
    "for i in range(0, 365, 30):\n",
    "    for j in range(0, 1440, 60):\n",
    "        centers_full.append([i,j])\n",
    "centers_full=np.array(centers_full)\n",
    "#After many testing times, I've settled with a sigma of 8000 - quite large for the model to wriggle around. Alpha=0.1\n",
    "#I will go ahead with these values instead of testing in this notebook which clutters the work\n",
    "sigma=8000\n",
    "alpha=0.1\n",
    "\n",
    "#wrapping in rbfs. We only deal with minutes here\n",
    "full_model_train = rbf_kernel(X_train, centers_full, gamma=1/sigma)\n",
    "full_model_test = rbf_kernel(X_test, centers_full, gamma=1/sigma)\n",
    "\n",
    "#Fitting the model with Linear Regression\n",
    "reg_full = LinearRegression()\n",
    "reg_full.fit(full_model_train, y_train)\n",
    "\n",
    "#Testing the model\n",
    "pred_full = reg_full.predict(full_model_test)"
   ]
  },
  {
   "cell_type": "code",
   "execution_count": 25,
   "metadata": {},
   "outputs": [
    {
     "data": {
      "text/plain": [
       "0.6240301491051408"
      ]
     },
     "execution_count": 25,
     "metadata": {},
     "output_type": "execute_result"
    }
   ],
   "source": [
    "r2_score(y_test, pred_full) #We see here that r2 score is higher than both of the above models"
   ]
  },
  {
   "cell_type": "code",
   "execution_count": 26,
   "metadata": {},
   "outputs": [
    {
     "data": {
      "image/png": "[encoded data removed]",
      "text/plain": [
       "<Figure size 432x288 with 1 Axes>"
      ]
     },
     "metadata": {
      "needs_background": "light"
     },
     "output_type": "display_data"
    }
   ],
   "source": [
    "#Examining with a graph on the test data\n",
    "plt.figure()\n",
    "range_x = dataset_model_test.index\n",
    "plt.plot(range_x, y_test, label='Real data', color='blue')\n",
    "plt.plot(range_x, pred_full, label='Predicted with minutes', color='Red')\n",
    "plt.xlabel(\"Days from the original date\")\n",
    "plt.ylabel(\"Temperature\")\n",
    "plt.show()"
   ]
  },
  {
   "cell_type": "markdown",
   "metadata": {},
   "source": [
    "We see that including both variables allowed for a higher R2 score. This is reasonable because even though the variation is explained mostly by Days, it is also partly explained by Minutes. For example, we can see how temperatures will be lower in the winter and hotter in the summer. For days, temperature is usually highest at midday, for example."
   ]
  },
  {
   "cell_type": "code",
   "execution_count": null,
   "metadata": {},
   "outputs": [],
   "source": []
  }
 ],
 "metadata": {
  "kernelspec": {
   "display_name": "Python 3",
   "language": "python",
   "name": "python3"
  },
  "language_info": {
   "codemirror_mode": {
    "name": "ipython",
    "version": 3
   },
   "file_extension": ".py",
   "mimetype": "text/x-python",
   "name": "python",
   "nbconvert_exporter": "python",
   "pygments_lexer": "ipython3",
   "version": "3.8.3"
  }
 },
 "nbformat": 4,
 "nbformat_minor": 4
}
